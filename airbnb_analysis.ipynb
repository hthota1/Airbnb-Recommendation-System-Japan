{
 "cells": [
  {
   "cell_type": "markdown",
   "metadata": {},
   "source": [
    "# Airbnb Recommendation System - Tokyo"
   ]
  },
  {
   "cell_type": "markdown",
   "metadata": {},
   "source": [
    "# Business Problem\n",
    "Airbnb wants to know which properties were popular in Tokyo and use that data to create more. \n",
    "Users also want to see which one to stay at."
   ]
  },
  {
   "cell_type": "code",
   "execution_count": 2,
   "metadata": {},
   "outputs": [],
   "source": [
    "import pandas as pd "
   ]
  },
  {
   "cell_type": "markdown",
   "metadata": {},
   "source": [
    "Detailed Review Data"
   ]
  },
  {
   "cell_type": "code",
   "execution_count": 44,
   "metadata": {},
   "outputs": [],
   "source": [
    "file_path = file_path = '/Users/harshithathota/Documents/Capstone/data/reviews 2.csv'\n",
    "\n",
    "reviews_df = pd.read_csv(file_path)"
   ]
  },
  {
   "cell_type": "code",
   "execution_count": 25,
   "metadata": {},
   "outputs": [
    {
     "name": "stdout",
     "output_type": "stream",
     "text": [
      "<class 'pandas.core.frame.DataFrame'>\n",
      "RangeIndex: 451682 entries, 0 to 451681\n",
      "Data columns (total 6 columns):\n",
      " #   Column         Non-Null Count   Dtype \n",
      "---  ------         --------------   ----- \n",
      " 0   listing_id     451682 non-null  int64 \n",
      " 1   id             451682 non-null  int64 \n",
      " 2   date           451682 non-null  object\n",
      " 3   reviewer_id    451682 non-null  int64 \n",
      " 4   reviewer_name  451681 non-null  object\n",
      " 5   comments       451638 non-null  object\n",
      "dtypes: int64(3), object(3)\n",
      "memory usage: 20.7+ MB\n"
     ]
    }
   ],
   "source": [
    "reviews_df.info()"
   ]
  },
  {
   "cell_type": "code",
   "execution_count": 26,
   "metadata": {},
   "outputs": [
    {
     "data": {
      "text/html": [
       "<div>\n",
       "<style scoped>\n",
       "    .dataframe tbody tr th:only-of-type {\n",
       "        vertical-align: middle;\n",
       "    }\n",
       "\n",
       "    .dataframe tbody tr th {\n",
       "        vertical-align: top;\n",
       "    }\n",
       "\n",
       "    .dataframe thead th {\n",
       "        text-align: right;\n",
       "    }\n",
       "</style>\n",
       "<table border=\"1\" class=\"dataframe\">\n",
       "  <thead>\n",
       "    <tr style=\"text-align: right;\">\n",
       "      <th></th>\n",
       "      <th>listing_id</th>\n",
       "      <th>id</th>\n",
       "      <th>date</th>\n",
       "      <th>reviewer_id</th>\n",
       "      <th>reviewer_name</th>\n",
       "      <th>comments</th>\n",
       "    </tr>\n",
       "  </thead>\n",
       "  <tbody>\n",
       "    <tr>\n",
       "      <th>0</th>\n",
       "      <td>197677</td>\n",
       "      <td>554285</td>\n",
       "      <td>2011-09-21</td>\n",
       "      <td>1002142</td>\n",
       "      <td>Pablo</td>\n",
       "      <td>Couldn’t get any better!\\r&lt;br/&gt;\\r&lt;br/&gt;The apar...</td>\n",
       "    </tr>\n",
       "    <tr>\n",
       "      <th>1</th>\n",
       "      <td>197677</td>\n",
       "      <td>627651</td>\n",
       "      <td>2011-10-14</td>\n",
       "      <td>1031940</td>\n",
       "      <td>Ana &amp; Ricardo</td>\n",
       "      <td>The apartment is bigger than it looks in the p...</td>\n",
       "    </tr>\n",
       "    <tr>\n",
       "      <th>2</th>\n",
       "      <td>197677</td>\n",
       "      <td>733040</td>\n",
       "      <td>2011-11-21</td>\n",
       "      <td>1097040</td>\n",
       "      <td>Samuel</td>\n",
       "      <td>The appartement is perfect for a couple! It is...</td>\n",
       "    </tr>\n",
       "    <tr>\n",
       "      <th>3</th>\n",
       "      <td>197677</td>\n",
       "      <td>755841</td>\n",
       "      <td>2011-11-30</td>\n",
       "      <td>1183674</td>\n",
       "      <td>Lisa</td>\n",
       "      <td>We had a terrific stay at Yoshimi and Marek's ...</td>\n",
       "    </tr>\n",
       "    <tr>\n",
       "      <th>4</th>\n",
       "      <td>197677</td>\n",
       "      <td>852938</td>\n",
       "      <td>2012-01-09</td>\n",
       "      <td>1538004</td>\n",
       "      <td>Langan</td>\n",
       "      <td>We loved our stay at the Oshiage Holiday Apart...</td>\n",
       "    </tr>\n",
       "  </tbody>\n",
       "</table>\n",
       "</div>"
      ],
      "text/plain": [
       "   listing_id      id        date  reviewer_id  reviewer_name  \\\n",
       "0      197677  554285  2011-09-21      1002142          Pablo   \n",
       "1      197677  627651  2011-10-14      1031940  Ana & Ricardo   \n",
       "2      197677  733040  2011-11-21      1097040         Samuel   \n",
       "3      197677  755841  2011-11-30      1183674           Lisa   \n",
       "4      197677  852938  2012-01-09      1538004         Langan   \n",
       "\n",
       "                                            comments  \n",
       "0  Couldn’t get any better!\\r<br/>\\r<br/>The apar...  \n",
       "1  The apartment is bigger than it looks in the p...  \n",
       "2  The appartement is perfect for a couple! It is...  \n",
       "3  We had a terrific stay at Yoshimi and Marek's ...  \n",
       "4  We loved our stay at the Oshiage Holiday Apart...  "
      ]
     },
     "execution_count": 26,
     "metadata": {},
     "output_type": "execute_result"
    }
   ],
   "source": [
    "reviews_df.head()"
   ]
  },
  {
   "cell_type": "markdown",
   "metadata": {},
   "source": [
    "Detailed Listings data"
   ]
  },
  {
   "cell_type": "markdown",
   "metadata": {},
   "source": [
    "Summary information and metrics for listings in Tokyo (good for visualisations)."
   ]
  },
  {
   "cell_type": "code",
   "execution_count": 11,
   "metadata": {},
   "outputs": [
    {
     "name": "stdout",
     "output_type": "stream",
     "text": [
      "<class 'pandas.core.frame.DataFrame'>\n",
      "RangeIndex: 12234 entries, 0 to 12233\n",
      "Data columns (total 18 columns):\n",
      " #   Column                          Non-Null Count  Dtype  \n",
      "---  ------                          --------------  -----  \n",
      " 0   id                              12234 non-null  int64  \n",
      " 1   name                            12234 non-null  object \n",
      " 2   host_id                         12234 non-null  int64  \n",
      " 3   host_name                       12234 non-null  object \n",
      " 4   neighbourhood_group             0 non-null      float64\n",
      " 5   neighbourhood                   12234 non-null  object \n",
      " 6   latitude                        12234 non-null  float64\n",
      " 7   longitude                       12234 non-null  float64\n",
      " 8   room_type                       12234 non-null  object \n",
      " 9   price                           12234 non-null  int64  \n",
      " 10  minimum_nights                  12234 non-null  int64  \n",
      " 11  number_of_reviews               12234 non-null  int64  \n",
      " 12  last_review                     10776 non-null  object \n",
      " 13  reviews_per_month               10776 non-null  float64\n",
      " 14  calculated_host_listings_count  12234 non-null  int64  \n",
      " 15  availability_365                12234 non-null  int64  \n",
      " 16  number_of_reviews_ltm           12234 non-null  int64  \n",
      " 17  license                         12234 non-null  object \n",
      "dtypes: float64(4), int64(8), object(6)\n",
      "memory usage: 1.7+ MB\n"
     ]
    }
   ],
   "source": [
    "list = list = '/Users/harshithathota/Documents/Capstone/data/listings.csv'\n",
    "list = pd.read_csv(list)\n",
    "list.info()"
   ]
  },
  {
   "cell_type": "code",
   "execution_count": 29,
   "metadata": {},
   "outputs": [
    {
     "data": {
      "text/html": [
       "<div>\n",
       "<style scoped>\n",
       "    .dataframe tbody tr th:only-of-type {\n",
       "        vertical-align: middle;\n",
       "    }\n",
       "\n",
       "    .dataframe tbody tr th {\n",
       "        vertical-align: top;\n",
       "    }\n",
       "\n",
       "    .dataframe thead th {\n",
       "        text-align: right;\n",
       "    }\n",
       "</style>\n",
       "<table border=\"1\" class=\"dataframe\">\n",
       "  <thead>\n",
       "    <tr style=\"text-align: right;\">\n",
       "      <th></th>\n",
       "      <th>id</th>\n",
       "      <th>name</th>\n",
       "      <th>host_id</th>\n",
       "      <th>host_name</th>\n",
       "      <th>neighbourhood_group</th>\n",
       "      <th>neighbourhood</th>\n",
       "      <th>latitude</th>\n",
       "      <th>longitude</th>\n",
       "      <th>room_type</th>\n",
       "      <th>price</th>\n",
       "      <th>minimum_nights</th>\n",
       "      <th>number_of_reviews</th>\n",
       "      <th>last_review</th>\n",
       "      <th>reviews_per_month</th>\n",
       "      <th>calculated_host_listings_count</th>\n",
       "      <th>availability_365</th>\n",
       "      <th>number_of_reviews_ltm</th>\n",
       "      <th>license</th>\n",
       "    </tr>\n",
       "  </thead>\n",
       "  <tbody>\n",
       "    <tr>\n",
       "      <th>0</th>\n",
       "      <td>197677</td>\n",
       "      <td>Rental unit in Sumida · ★4.77 · 1 bedroom · 2 ...</td>\n",
       "      <td>964081</td>\n",
       "      <td>Yoshimi &amp; Marek</td>\n",
       "      <td>NaN</td>\n",
       "      <td>Sumida Ku</td>\n",
       "      <td>35.717070</td>\n",
       "      <td>139.826080</td>\n",
       "      <td>Entire home/apt</td>\n",
       "      <td>12000</td>\n",
       "      <td>3</td>\n",
       "      <td>174</td>\n",
       "      <td>2023-08-13</td>\n",
       "      <td>1.19</td>\n",
       "      <td>1</td>\n",
       "      <td>39</td>\n",
       "      <td>8</td>\n",
       "      <td>M130003350</td>\n",
       "    </tr>\n",
       "    <tr>\n",
       "      <th>1</th>\n",
       "      <td>776070</td>\n",
       "      <td>Home in Kita-ku · ★4.98 · 1 bedroom · 1 bed · ...</td>\n",
       "      <td>801494</td>\n",
       "      <td>Kei</td>\n",
       "      <td>NaN</td>\n",
       "      <td>Kita Ku</td>\n",
       "      <td>35.738440</td>\n",
       "      <td>139.769170</td>\n",
       "      <td>Private room</td>\n",
       "      <td>8902</td>\n",
       "      <td>3</td>\n",
       "      <td>248</td>\n",
       "      <td>2023-08-27</td>\n",
       "      <td>1.88</td>\n",
       "      <td>1</td>\n",
       "      <td>116</td>\n",
       "      <td>18</td>\n",
       "      <td>M130000243</td>\n",
       "    </tr>\n",
       "    <tr>\n",
       "      <th>2</th>\n",
       "      <td>905944</td>\n",
       "      <td>Rental unit in Shibuya · ★4.77 · 2 bedrooms · ...</td>\n",
       "      <td>4847803</td>\n",
       "      <td>Best Stay In Tokyo!</td>\n",
       "      <td>NaN</td>\n",
       "      <td>Shibuya Ku</td>\n",
       "      <td>35.678780</td>\n",
       "      <td>139.678470</td>\n",
       "      <td>Entire home/apt</td>\n",
       "      <td>23740</td>\n",
       "      <td>3</td>\n",
       "      <td>194</td>\n",
       "      <td>2023-09-11</td>\n",
       "      <td>1.52</td>\n",
       "      <td>5</td>\n",
       "      <td>166</td>\n",
       "      <td>9</td>\n",
       "      <td>Hotels and Inns Business Act | 渋谷区保健所長 | 31渋健生...</td>\n",
       "    </tr>\n",
       "    <tr>\n",
       "      <th>3</th>\n",
       "      <td>1016831</td>\n",
       "      <td>Home in Setagaya · ★4.94 · 1 bedroom · 2 beds ...</td>\n",
       "      <td>5596383</td>\n",
       "      <td>Wakana</td>\n",
       "      <td>NaN</td>\n",
       "      <td>Setagaya Ku</td>\n",
       "      <td>35.658000</td>\n",
       "      <td>139.671340</td>\n",
       "      <td>Private room</td>\n",
       "      <td>24000</td>\n",
       "      <td>30</td>\n",
       "      <td>256</td>\n",
       "      <td>2023-09-18</td>\n",
       "      <td>2.01</td>\n",
       "      <td>1</td>\n",
       "      <td>53</td>\n",
       "      <td>45</td>\n",
       "      <td>M130001107</td>\n",
       "    </tr>\n",
       "    <tr>\n",
       "      <th>4</th>\n",
       "      <td>1196177</td>\n",
       "      <td>Home in 足立区 · ★4.73 · 1 bedroom · 1.5 shared b...</td>\n",
       "      <td>5686404</td>\n",
       "      <td>Yukiko</td>\n",
       "      <td>NaN</td>\n",
       "      <td>Adachi Ku</td>\n",
       "      <td>35.744731</td>\n",
       "      <td>139.797384</td>\n",
       "      <td>Private room</td>\n",
       "      <td>5200</td>\n",
       "      <td>2</td>\n",
       "      <td>100</td>\n",
       "      <td>2023-09-19</td>\n",
       "      <td>0.81</td>\n",
       "      <td>1</td>\n",
       "      <td>112</td>\n",
       "      <td>5</td>\n",
       "      <td>M130007760</td>\n",
       "    </tr>\n",
       "  </tbody>\n",
       "</table>\n",
       "</div>"
      ],
      "text/plain": [
       "        id                                               name  host_id  \\\n",
       "0   197677  Rental unit in Sumida · ★4.77 · 1 bedroom · 2 ...   964081   \n",
       "1   776070  Home in Kita-ku · ★4.98 · 1 bedroom · 1 bed · ...   801494   \n",
       "2   905944  Rental unit in Shibuya · ★4.77 · 2 bedrooms · ...  4847803   \n",
       "3  1016831  Home in Setagaya · ★4.94 · 1 bedroom · 2 beds ...  5596383   \n",
       "4  1196177  Home in 足立区 · ★4.73 · 1 bedroom · 1.5 shared b...  5686404   \n",
       "\n",
       "             host_name  neighbourhood_group neighbourhood   latitude  \\\n",
       "0      Yoshimi & Marek                  NaN     Sumida Ku  35.717070   \n",
       "1                  Kei                  NaN       Kita Ku  35.738440   \n",
       "2  Best Stay In Tokyo!                  NaN    Shibuya Ku  35.678780   \n",
       "3               Wakana                  NaN   Setagaya Ku  35.658000   \n",
       "4               Yukiko                  NaN     Adachi Ku  35.744731   \n",
       "\n",
       "    longitude        room_type  price  minimum_nights  number_of_reviews  \\\n",
       "0  139.826080  Entire home/apt  12000               3                174   \n",
       "1  139.769170     Private room   8902               3                248   \n",
       "2  139.678470  Entire home/apt  23740               3                194   \n",
       "3  139.671340     Private room  24000              30                256   \n",
       "4  139.797384     Private room   5200               2                100   \n",
       "\n",
       "  last_review  reviews_per_month  calculated_host_listings_count  \\\n",
       "0  2023-08-13               1.19                               1   \n",
       "1  2023-08-27               1.88                               1   \n",
       "2  2023-09-11               1.52                               5   \n",
       "3  2023-09-18               2.01                               1   \n",
       "4  2023-09-19               0.81                               1   \n",
       "\n",
       "   availability_365  number_of_reviews_ltm  \\\n",
       "0                39                      8   \n",
       "1               116                     18   \n",
       "2               166                      9   \n",
       "3                53                     45   \n",
       "4               112                      5   \n",
       "\n",
       "                                             license  \n",
       "0                                         M130003350  \n",
       "1                                         M130000243  \n",
       "2  Hotels and Inns Business Act | 渋谷区保健所長 | 31渋健生...  \n",
       "3                                         M130001107  \n",
       "4                                         M130007760  "
      ]
     },
     "execution_count": 29,
     "metadata": {},
     "output_type": "execute_result"
    }
   ],
   "source": [
    "list.head()"
   ]
  },
  {
   "cell_type": "markdown",
   "metadata": {},
   "source": [
    "Neighbourhood list for geo filter. Sourced from city or open source GIS files."
   ]
  },
  {
   "cell_type": "code",
   "execution_count": 10,
   "metadata": {},
   "outputs": [
    {
     "data": {
      "text/html": [
       "<div>\n",
       "<style scoped>\n",
       "    .dataframe tbody tr th:only-of-type {\n",
       "        vertical-align: middle;\n",
       "    }\n",
       "\n",
       "    .dataframe tbody tr th {\n",
       "        vertical-align: top;\n",
       "    }\n",
       "\n",
       "    .dataframe thead th {\n",
       "        text-align: right;\n",
       "    }\n",
       "</style>\n",
       "<table border=\"1\" class=\"dataframe\">\n",
       "  <thead>\n",
       "    <tr style=\"text-align: right;\">\n",
       "      <th></th>\n",
       "      <th>neighbourhood_group</th>\n",
       "      <th>neighbourhood</th>\n",
       "    </tr>\n",
       "  </thead>\n",
       "  <tbody>\n",
       "    <tr>\n",
       "      <th>0</th>\n",
       "      <td>NaN</td>\n",
       "      <td>Adachi Ku</td>\n",
       "    </tr>\n",
       "    <tr>\n",
       "      <th>1</th>\n",
       "      <td>NaN</td>\n",
       "      <td>Akiruno Shi</td>\n",
       "    </tr>\n",
       "    <tr>\n",
       "      <th>2</th>\n",
       "      <td>NaN</td>\n",
       "      <td>Akishima Shi</td>\n",
       "    </tr>\n",
       "    <tr>\n",
       "      <th>3</th>\n",
       "      <td>NaN</td>\n",
       "      <td>Aogashima Mura</td>\n",
       "    </tr>\n",
       "    <tr>\n",
       "      <th>4</th>\n",
       "      <td>NaN</td>\n",
       "      <td>Arakawa Ku</td>\n",
       "    </tr>\n",
       "  </tbody>\n",
       "</table>\n",
       "</div>"
      ],
      "text/plain": [
       "   neighbourhood_group   neighbourhood\n",
       "0                  NaN       Adachi Ku\n",
       "1                  NaN     Akiruno Shi\n",
       "2                  NaN    Akishima Shi\n",
       "3                  NaN  Aogashima Mura\n",
       "4                  NaN      Arakawa Ku"
      ]
     },
     "execution_count": 10,
     "metadata": {},
     "output_type": "execute_result"
    }
   ],
   "source": [
    "area = area = '/Users/harshithathota/Documents/Capstone/data/neighbourhoods.csv'\n",
    "area = pd.read_csv(area)\n",
    "area.head()"
   ]
  },
  {
   "cell_type": "markdown",
   "metadata": {},
   "source": [
    "Detailed Calendar Data"
   ]
  },
  {
   "cell_type": "code",
   "execution_count": 3,
   "metadata": {},
   "outputs": [],
   "source": [
    "calendar = calendar = '/Users/harshithathota/Documents/Capstone/data/calendar.csv'\n",
    "calendar = pd.read_csv(calendar)\n"
   ]
  },
  {
   "cell_type": "code",
   "execution_count": 4,
   "metadata": {},
   "outputs": [
    {
     "data": {
      "text/html": [
       "<div>\n",
       "<style scoped>\n",
       "    .dataframe tbody tr th:only-of-type {\n",
       "        vertical-align: middle;\n",
       "    }\n",
       "\n",
       "    .dataframe tbody tr th {\n",
       "        vertical-align: top;\n",
       "    }\n",
       "\n",
       "    .dataframe thead th {\n",
       "        text-align: right;\n",
       "    }\n",
       "</style>\n",
       "<table border=\"1\" class=\"dataframe\">\n",
       "  <thead>\n",
       "    <tr style=\"text-align: right;\">\n",
       "      <th></th>\n",
       "      <th>listing_id</th>\n",
       "      <th>date</th>\n",
       "      <th>available</th>\n",
       "      <th>price</th>\n",
       "      <th>adjusted_price</th>\n",
       "      <th>minimum_nights</th>\n",
       "      <th>maximum_nights</th>\n",
       "    </tr>\n",
       "  </thead>\n",
       "  <tbody>\n",
       "    <tr>\n",
       "      <th>0</th>\n",
       "      <td>197677</td>\n",
       "      <td>2023-09-24</td>\n",
       "      <td>f</td>\n",
       "      <td>$12,000.00</td>\n",
       "      <td>$12,000.00</td>\n",
       "      <td>3</td>\n",
       "      <td>1125</td>\n",
       "    </tr>\n",
       "    <tr>\n",
       "      <th>1</th>\n",
       "      <td>197677</td>\n",
       "      <td>2023-09-25</td>\n",
       "      <td>f</td>\n",
       "      <td>$12,000.00</td>\n",
       "      <td>$12,000.00</td>\n",
       "      <td>3</td>\n",
       "      <td>1125</td>\n",
       "    </tr>\n",
       "    <tr>\n",
       "      <th>2</th>\n",
       "      <td>197677</td>\n",
       "      <td>2023-09-26</td>\n",
       "      <td>f</td>\n",
       "      <td>$12,000.00</td>\n",
       "      <td>$12,000.00</td>\n",
       "      <td>3</td>\n",
       "      <td>1125</td>\n",
       "    </tr>\n",
       "    <tr>\n",
       "      <th>3</th>\n",
       "      <td>197677</td>\n",
       "      <td>2023-09-27</td>\n",
       "      <td>f</td>\n",
       "      <td>$12,000.00</td>\n",
       "      <td>$12,000.00</td>\n",
       "      <td>3</td>\n",
       "      <td>1125</td>\n",
       "    </tr>\n",
       "    <tr>\n",
       "      <th>4</th>\n",
       "      <td>197677</td>\n",
       "      <td>2023-09-28</td>\n",
       "      <td>f</td>\n",
       "      <td>$12,000.00</td>\n",
       "      <td>$12,000.00</td>\n",
       "      <td>3</td>\n",
       "      <td>1125</td>\n",
       "    </tr>\n",
       "  </tbody>\n",
       "</table>\n",
       "</div>"
      ],
      "text/plain": [
       "   listing_id        date available       price adjusted_price  \\\n",
       "0      197677  2023-09-24         f  $12,000.00     $12,000.00   \n",
       "1      197677  2023-09-25         f  $12,000.00     $12,000.00   \n",
       "2      197677  2023-09-26         f  $12,000.00     $12,000.00   \n",
       "3      197677  2023-09-27         f  $12,000.00     $12,000.00   \n",
       "4      197677  2023-09-28         f  $12,000.00     $12,000.00   \n",
       "\n",
       "   minimum_nights  maximum_nights  \n",
       "0               3            1125  \n",
       "1               3            1125  \n",
       "2               3            1125  \n",
       "3               3            1125  \n",
       "4               3            1125  "
      ]
     },
     "execution_count": 4,
     "metadata": {},
     "output_type": "execute_result"
    }
   ],
   "source": [
    "calendar.head()"
   ]
  },
  {
   "cell_type": "markdown",
   "metadata": {},
   "source": [
    "Reviews = Summary Review data and Listing ID (to facilitate time based analytics and visualisations linked to a listing)."
   ]
  },
  {
   "cell_type": "code",
   "execution_count": 22,
   "metadata": {},
   "outputs": [
    {
     "name": "stdout",
     "output_type": "stream",
     "text": [
      "<class 'pandas.core.frame.DataFrame'>\n",
      "RangeIndex: 451682 entries, 0 to 451681\n",
      "Data columns (total 2 columns):\n",
      " #   Column      Non-Null Count   Dtype \n",
      "---  ------      --------------   ----- \n",
      " 0   listing_id  451682 non-null  int64 \n",
      " 1   date        451682 non-null  object\n",
      "dtypes: int64(1), object(1)\n",
      "memory usage: 6.9+ MB\n"
     ]
    }
   ],
   "source": [
    "df = df= '/Users/harshithathota/Documents/Capstone/data/reviews.csv'\n",
    "df = pd.read_csv(df)\n",
    "df.info()"
   ]
  },
  {
   "cell_type": "code",
   "execution_count": 32,
   "metadata": {},
   "outputs": [
    {
     "name": "stdout",
     "output_type": "stream",
     "text": [
      "<class 'pandas.core.frame.DataFrame'>\n",
      "RangeIndex: 451682 entries, 0 to 451681\n",
      "Data columns (total 24 columns):\n",
      " #   Column                          Non-Null Count   Dtype  \n",
      "---  ------                          --------------   -----  \n",
      " 0   id_x                            451682 non-null  int64  \n",
      " 1   name                            451682 non-null  object \n",
      " 2   host_id                         451682 non-null  int64  \n",
      " 3   host_name                       451682 non-null  object \n",
      " 4   neighbourhood_group             0 non-null       float64\n",
      " 5   neighbourhood                   451682 non-null  object \n",
      " 6   latitude                        451682 non-null  float64\n",
      " 7   longitude                       451682 non-null  float64\n",
      " 8   room_type                       451682 non-null  object \n",
      " 9   price                           451682 non-null  int64  \n",
      " 10  minimum_nights                  451682 non-null  int64  \n",
      " 11  number_of_reviews               451682 non-null  int64  \n",
      " 12  last_review                     451682 non-null  object \n",
      " 13  reviews_per_month               451682 non-null  float64\n",
      " 14  calculated_host_listings_count  451682 non-null  int64  \n",
      " 15  availability_365                451682 non-null  int64  \n",
      " 16  number_of_reviews_ltm           451682 non-null  int64  \n",
      " 17  license                         451682 non-null  object \n",
      " 18  listing_id                      451682 non-null  int64  \n",
      " 19  id_y                            451682 non-null  int64  \n",
      " 20  date                            451682 non-null  object \n",
      " 21  reviewer_id                     451682 non-null  int64  \n",
      " 22  reviewer_name                   451681 non-null  object \n",
      " 23  comments                        451638 non-null  object \n",
      "dtypes: float64(4), int64(11), object(9)\n",
      "memory usage: 82.7+ MB\n"
     ]
    }
   ],
   "source": [
    "merged_df = pd.merge(list, reviews_df, left_on='id', right_on='listing_id', how='inner')\n",
    "merged_df.info()"
   ]
  },
  {
   "cell_type": "code",
   "execution_count": 35,
   "metadata": {},
   "outputs": [
    {
     "data": {
      "text/plain": [
       "id_x                                   0\n",
       "name                                   0\n",
       "host_id                                0\n",
       "host_name                              0\n",
       "neighbourhood_group               451682\n",
       "neighbourhood                          0\n",
       "latitude                               0\n",
       "longitude                              0\n",
       "room_type                              0\n",
       "price                                  0\n",
       "minimum_nights                         0\n",
       "number_of_reviews                      0\n",
       "last_review                            0\n",
       "reviews_per_month                      0\n",
       "calculated_host_listings_count         0\n",
       "availability_365                       0\n",
       "number_of_reviews_ltm                  0\n",
       "license                                0\n",
       "listing_id                             0\n",
       "id_y                                   0\n",
       "date                                   0\n",
       "reviewer_id                            0\n",
       "reviewer_name                          1\n",
       "comments                              44\n",
       "dtype: int64"
      ]
     },
     "execution_count": 35,
     "metadata": {},
     "output_type": "execute_result"
    }
   ],
   "source": [
    "merged_df.isna().sum()"
   ]
  },
  {
   "cell_type": "code",
   "execution_count": 36,
   "metadata": {},
   "outputs": [
    {
     "name": "stdout",
     "output_type": "stream",
     "text": [
      "<class 'pandas.core.frame.DataFrame'>\n",
      "Index: 55381 entries, 173 to 451585\n",
      "Data columns (total 24 columns):\n",
      " #   Column                          Non-Null Count  Dtype         \n",
      "---  ------                          --------------  -----         \n",
      " 0   id_x                            55381 non-null  int64         \n",
      " 1   name                            55381 non-null  object        \n",
      " 2   host_id                         55381 non-null  int64         \n",
      " 3   host_name                       55381 non-null  object        \n",
      " 4   neighbourhood_group             0 non-null      float64       \n",
      " 5   neighbourhood                   55381 non-null  object        \n",
      " 6   latitude                        55381 non-null  float64       \n",
      " 7   longitude                       55381 non-null  float64       \n",
      " 8   room_type                       55381 non-null  object        \n",
      " 9   price                           55381 non-null  int64         \n",
      " 10  minimum_nights                  55381 non-null  int64         \n",
      " 11  number_of_reviews               55381 non-null  int64         \n",
      " 12  last_review                     55381 non-null  object        \n",
      " 13  reviews_per_month               55381 non-null  float64       \n",
      " 14  calculated_host_listings_count  55381 non-null  int64         \n",
      " 15  availability_365                55381 non-null  int64         \n",
      " 16  number_of_reviews_ltm           55381 non-null  int64         \n",
      " 17  license                         55381 non-null  object        \n",
      " 18  listing_id                      55381 non-null  int64         \n",
      " 19  id_y                            55381 non-null  int64         \n",
      " 20  date                            55381 non-null  datetime64[ns]\n",
      " 21  reviewer_id                     55381 non-null  int64         \n",
      " 22  reviewer_name                   55381 non-null  object        \n",
      " 23  comments                        55376 non-null  object        \n",
      "dtypes: datetime64[ns](1), float64(4), int64(11), object(8)\n",
      "memory usage: 10.6+ MB\n"
     ]
    }
   ],
   "source": [
    "# filter date column for summer 2023\n",
    "merged_df['date'] = pd.to_datetime(merged_df['date'], errors='coerce')\n",
    "\n",
    "# Filter for summer 2023 (June 1, 2023, to August 31, 2023)\n",
    "merged_df = merged_df[(merged_df['date'] >= '2023-06-01') & (merged_df['date'] <= '2023-08-31')]\n",
    "merged_df.info()"
   ]
  }
 ],
 "metadata": {
  "kernelspec": {
   "display_name": "Python (learn-env)",
   "language": "python",
   "name": "learn-env"
  },
  "language_info": {
   "codemirror_mode": {
    "name": "ipython",
    "version": 3
   },
   "file_extension": ".py",
   "mimetype": "text/x-python",
   "name": "python",
   "nbconvert_exporter": "python",
   "pygments_lexer": "ipython3",
   "version": "3.9.18"
  }
 },
 "nbformat": 4,
 "nbformat_minor": 2
}
